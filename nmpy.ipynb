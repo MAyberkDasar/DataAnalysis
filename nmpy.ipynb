{
 "cells": [
  {
   "cell_type": "code",
   "execution_count": 1,
   "id": "52b414fc",
   "metadata": {},
   "outputs": [],
   "source": [
    "import numpy as np"
   ]
  },
  {
   "cell_type": "markdown",
   "id": "cf72676c",
   "metadata": {},
   "source": [
    "(10, 15, 30, 45, 60) değerlerine sahip numpy dizisi oluşturunuz."
   ]
  },
  {
   "cell_type": "code",
   "execution_count": 2,
   "id": "5027b137",
   "metadata": {},
   "outputs": [
    {
     "data": {
      "text/plain": [
       "array([10, 15, 30, 45, 60])"
      ]
     },
     "execution_count": 2,
     "metadata": {},
     "output_type": "execute_result"
    }
   ],
   "source": [
    "np.array([10, 15, 30, 45, 60])"
   ]
  },
  {
   "cell_type": "markdown",
   "id": "ba088e31",
   "metadata": {},
   "source": [
    "(5-15) arasındaki sayılarla numpy dizisi oluşturunuz."
   ]
  },
  {
   "cell_type": "code",
   "execution_count": 3,
   "id": "4adf31d7",
   "metadata": {},
   "outputs": [
    {
     "data": {
      "text/plain": [
       "array([ 5,  6,  7,  8,  9, 10, 11, 12, 13, 14])"
      ]
     },
     "execution_count": 3,
     "metadata": {},
     "output_type": "execute_result"
    }
   ],
   "source": [
    "np.arange(5, 15)"
   ]
  },
  {
   "cell_type": "markdown",
   "id": "83d76019",
   "metadata": {},
   "source": [
    "(50 - 100) arasında beşer artarak numpy dizisi oluşturunuz."
   ]
  },
  {
   "cell_type": "code",
   "execution_count": 4,
   "id": "fb7ea411",
   "metadata": {},
   "outputs": [
    {
     "data": {
      "text/plain": [
       "array([50, 55, 60, 65, 70, 75, 80, 85, 90, 95])"
      ]
     },
     "execution_count": 4,
     "metadata": {},
     "output_type": "execute_result"
    }
   ],
   "source": [
    "np.arange(50, 100, 5)"
   ]
  },
  {
   "cell_type": "markdown",
   "id": "18818e53",
   "metadata": {},
   "source": [
    "10 elemanlı sıfırlardan oluşan bir numpy dizisi oluşturunuz."
   ]
  },
  {
   "cell_type": "code",
   "execution_count": 5,
   "id": "1c39d7aa",
   "metadata": {},
   "outputs": [
    {
     "data": {
      "text/plain": [
       "array([0., 0., 0., 0., 0., 0., 0., 0., 0., 0.])"
      ]
     },
     "execution_count": 5,
     "metadata": {},
     "output_type": "execute_result"
    }
   ],
   "source": [
    "np.zeros(10)"
   ]
  },
  {
   "cell_type": "markdown",
   "id": "72538d58",
   "metadata": {},
   "source": [
    "10 elemanlı birlerden oluşan bir numpy dizisi oluşturunuz."
   ]
  },
  {
   "cell_type": "code",
   "execution_count": 6,
   "id": "fe0ec367",
   "metadata": {},
   "outputs": [
    {
     "data": {
      "text/plain": [
       "array([1., 1., 1., 1., 1., 1., 1., 1., 1., 1.])"
      ]
     },
     "execution_count": 6,
     "metadata": {},
     "output_type": "execute_result"
    }
   ],
   "source": [
    "np.ones(10)"
   ]
  },
  {
   "cell_type": "markdown",
   "id": "2278b258",
   "metadata": {},
   "source": [
    "(0 - 100) arasında eşit aralıklı 5 sayı üretiniz."
   ]
  },
  {
   "cell_type": "code",
   "execution_count": 7,
   "id": "4ed54499",
   "metadata": {},
   "outputs": [
    {
     "data": {
      "text/plain": [
       "array([  0.,  25.,  50.,  75., 100.])"
      ]
     },
     "execution_count": 7,
     "metadata": {},
     "output_type": "execute_result"
    }
   ],
   "source": [
    "np.linspace(0, 100, 5)"
   ]
  },
  {
   "cell_type": "markdown",
   "id": "43d97977",
   "metadata": {},
   "source": [
    "(10 - 30) arasında rastgele 5 sayı üretiniz."
   ]
  },
  {
   "cell_type": "code",
   "execution_count": 8,
   "id": "7d7d0e90",
   "metadata": {},
   "outputs": [
    {
     "data": {
      "text/plain": [
       "array([28, 16, 27, 10, 18], dtype=int32)"
      ]
     },
     "execution_count": 8,
     "metadata": {},
     "output_type": "execute_result"
    }
   ],
   "source": [
    "np.random.randint(10, 30, 5)"
   ]
  },
  {
   "cell_type": "markdown",
   "id": "a14ecc28",
   "metadata": {},
   "source": [
    "[0 ve 1] arasında 10 adet sayı üretiniz."
   ]
  },
  {
   "cell_type": "code",
   "execution_count": 9,
   "id": "a04031f3",
   "metadata": {},
   "outputs": [
    {
     "data": {
      "text/plain": [
       "array([0.19154551, 0.52097154, 0.25949003, 0.41957197, 0.52333725,\n",
       "       0.42027136, 0.09619609, 0.10067592, 0.56716056, 0.76160677])"
      ]
     },
     "execution_count": 9,
     "metadata": {},
     "output_type": "execute_result"
    }
   ],
   "source": [
    "np.random.rand(10)"
   ]
  },
  {
   "cell_type": "markdown",
   "id": "0d2d1e94",
   "metadata": {},
   "source": [
    "(3x5) boyutlarında (10 - 50) arasında rastgele bir matris oluşturunuz."
   ]
  },
  {
   "cell_type": "code",
   "execution_count": 10,
   "id": "a55a4899",
   "metadata": {},
   "outputs": [
    {
     "data": {
      "text/plain": [
       "array([[36, 26, 35, 32, 16],\n",
       "       [18, 47, 20, 15, 22],\n",
       "       [29, 45, 20, 47, 29]], dtype=int32)"
      ]
     },
     "execution_count": 10,
     "metadata": {},
     "output_type": "execute_result"
    }
   ],
   "source": [
    "matris = np.random.randint(10, 50, 15).reshape(3, 5)\n",
    "\n",
    "matris"
   ]
  },
  {
   "cell_type": "markdown",
   "id": "1a8098f9",
   "metadata": {},
   "source": [
    "Üretilen matrisin satır ve sütun sayıları toplamını bulunuz."
   ]
  },
  {
   "cell_type": "code",
   "execution_count": 11,
   "id": "850bd81d",
   "metadata": {},
   "outputs": [
    {
     "name": "stdout",
     "output_type": "stream",
     "text": [
      "[145 122 170]\n",
      "[ 83 118  75  94  67]\n"
     ]
    }
   ],
   "source": [
    "satirToplami = matris.sum(axis= 1)\n",
    "print(satirToplami)\n",
    "\n",
    "sutunToplami = matris.sum(axis= 0)\n",
    "print(sutunToplami)"
   ]
  },
  {
   "cell_type": "markdown",
   "id": "01d49dd6",
   "metadata": {},
   "source": [
    "Üretilen matrisin en büyük elemanını, en küçük elemanını ve ortalamasını bulunuz."
   ]
  },
  {
   "cell_type": "code",
   "execution_count": 12,
   "id": "ae6bfcea",
   "metadata": {},
   "outputs": [
    {
     "name": "stdout",
     "output_type": "stream",
     "text": [
      "47\n",
      "15\n",
      "29.133333333333333\n"
     ]
    }
   ],
   "source": [
    "enBuyuk = matris.max()\n",
    "print(enBuyuk)\n",
    "\n",
    "enKucuk = matris.min()\n",
    "print(enKucuk)\n",
    "\n",
    "ortalama = matris.mean()\n",
    "print(ortalama)"
   ]
  },
  {
   "cell_type": "markdown",
   "id": "a8570b1d",
   "metadata": {},
   "source": [
    "Üretilen matrisin en büyük ve en küçük elemanlarının indexlerini bulunuz."
   ]
  },
  {
   "cell_type": "code",
   "execution_count": 13,
   "id": "12ac4104",
   "metadata": {},
   "outputs": [
    {
     "name": "stdout",
     "output_type": "stream",
     "text": [
      "6\n",
      "8\n"
     ]
    }
   ],
   "source": [
    "buyukIndex = matris.argmax()\n",
    "print(buyukIndex)\n",
    "\n",
    "kucukIndex = matris.argmin()\n",
    "print(kucukIndex)"
   ]
  },
  {
   "cell_type": "markdown",
   "id": "a8f465b5",
   "metadata": {},
   "source": [
    "(10 -20) arasındaki sayıları içeren dizinin ilk 3 elemanını seçiniz."
   ]
  },
  {
   "cell_type": "code",
   "execution_count": 14,
   "id": "955ef647",
   "metadata": {},
   "outputs": [
    {
     "data": {
      "text/plain": [
       "array([10, 11, 12])"
      ]
     },
     "execution_count": 14,
     "metadata": {},
     "output_type": "execute_result"
    }
   ],
   "source": [
    "dizi = np.arange(10, 20)\n",
    "dizi[:3]"
   ]
  },
  {
   "cell_type": "markdown",
   "id": "c4ead1e0",
   "metadata": {},
   "source": [
    "Üretilen dizinin elemanlarını tersten yazdırınız."
   ]
  },
  {
   "cell_type": "code",
   "execution_count": 15,
   "id": "2c28c732",
   "metadata": {},
   "outputs": [
    {
     "data": {
      "text/plain": [
       "array([19, 18, 17, 16, 15, 14, 13, 12, 11, 10])"
      ]
     },
     "execution_count": 15,
     "metadata": {},
     "output_type": "execute_result"
    }
   ],
   "source": [
    "dizi[::-1]"
   ]
  },
  {
   "cell_type": "markdown",
   "id": "28250182",
   "metadata": {},
   "source": [
    "Üretilen matrisin ilk satırını seçiniz."
   ]
  },
  {
   "cell_type": "code",
   "execution_count": 16,
   "id": "5a7f2404",
   "metadata": {},
   "outputs": [
    {
     "data": {
      "text/plain": [
       "array([36, 26, 35, 32, 16], dtype=int32)"
      ]
     },
     "execution_count": 16,
     "metadata": {},
     "output_type": "execute_result"
    }
   ],
   "source": [
    "matris[0]"
   ]
  },
  {
   "cell_type": "markdown",
   "id": "ff933278",
   "metadata": {},
   "source": [
    "Üretilen matrisin 2. satır 3. sütunundaki elemanını bulunuz."
   ]
  },
  {
   "cell_type": "code",
   "execution_count": 17,
   "id": "8fdd8d40",
   "metadata": {},
   "outputs": [
    {
     "data": {
      "text/plain": [
       "np.int32(20)"
      ]
     },
     "execution_count": 17,
     "metadata": {},
     "output_type": "execute_result"
    }
   ],
   "source": [
    "matris[1, 2]\n",
    "\n",
    "# matris[1][2]"
   ]
  },
  {
   "cell_type": "markdown",
   "id": "3e56e4ee",
   "metadata": {},
   "source": [
    "Üretilen matrisin tüm satırlardaki ilk elemanını seçiniz."
   ]
  },
  {
   "cell_type": "code",
   "execution_count": 18,
   "id": "cc393777",
   "metadata": {},
   "outputs": [
    {
     "data": {
      "text/plain": [
       "array([36, 18, 29], dtype=int32)"
      ]
     },
     "execution_count": 18,
     "metadata": {},
     "output_type": "execute_result"
    }
   ],
   "source": [
    "matris[:,0]"
   ]
  },
  {
   "cell_type": "markdown",
   "id": "4f7400fb",
   "metadata": {},
   "source": [
    "Üretilen matrisin tüm sütunlardaki ilk elemanını seçiniz."
   ]
  },
  {
   "cell_type": "code",
   "execution_count": 19,
   "id": "23c16719",
   "metadata": {},
   "outputs": [
    {
     "data": {
      "text/plain": [
       "array([36, 26, 35, 32, 16], dtype=int32)"
      ]
     },
     "execution_count": 19,
     "metadata": {},
     "output_type": "execute_result"
    }
   ],
   "source": [
    "matris[0,:]"
   ]
  },
  {
   "cell_type": "markdown",
   "id": "9bc25bf1",
   "metadata": {},
   "source": [
    "Üretilen matrisin tüm elemanlarının karesini alınız."
   ]
  },
  {
   "cell_type": "code",
   "execution_count": 20,
   "id": "1851b2c3",
   "metadata": {},
   "outputs": [
    {
     "data": {
      "text/plain": [
       "array([[1296,  676, 1225, 1024,  256],\n",
       "       [ 324, 2209,  400,  225,  484],\n",
       "       [ 841, 2025,  400, 2209,  841]], dtype=int32)"
      ]
     },
     "execution_count": 20,
     "metadata": {},
     "output_type": "execute_result"
    }
   ],
   "source": [
    "matris ** 2"
   ]
  }
 ],
 "metadata": {
  "kernelspec": {
   "display_name": "Python 3",
   "language": "python",
   "name": "python3"
  },
  "language_info": {
   "codemirror_mode": {
    "name": "ipython",
    "version": 3
   },
   "file_extension": ".py",
   "mimetype": "text/x-python",
   "name": "python",
   "nbconvert_exporter": "python",
   "pygments_lexer": "ipython3",
   "version": "3.12.4"
  }
 },
 "nbformat": 4,
 "nbformat_minor": 5
}
